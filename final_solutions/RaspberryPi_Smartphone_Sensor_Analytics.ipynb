{
 "cells": [
  {
   "cell_type": "markdown",
   "metadata": {},
   "source": [
    "\n",
    "# Problem Statement\n",
    "\n",
    "**Objective:**  \n",
    "Build an IoT system using a Raspberry Pi that interacts with smartphone sensors (e.g., accelerometer, gyroscope, GPS, etc.) to collect data and display insights on a monitor.  \n",
    "\n",
    "The Raspberry Pi should:\n",
    "- Track activity, orientation, and location of a smartphone.\n",
    "- Provide insights on activity performed, GPS location and route on a map, and 3D phone orientation.\n",
    "- Ensure efficiency in power, compute, and data usage.\n",
    "- Leverage storytelling and visualization best practices.\n"
   ]
  },
  {
   "cell_type": "markdown",
   "metadata": {},
   "source": [
    "\n",
    "# Task Distribution\n",
    "\n",
    "| **Task** | **Subtask** | **Description** | **Assigned To** | **Status** |\n",
    "|----------|-------------|------------------|------------------|-------------|\n",
    "| **1. Smartphone Sensor Data Collection (2 days)** | 1A | Research and select a smartphone app for sensor data streaming | Person 1 | Not Started |\n",
    "| | 1B | Configure app and smartphone to stream data to Raspberry Pi (via Wi-Fi/Bluetooth) | Obianuju Nonyerem Anuma | Not Started |\n",
    "| | 1C | Develop Python script to receive and store sensor data | Serene Sebastian | Not Started |\n",
    "| **2. Data Processing and Visualization (3 days)** | 2A | Clean and process raw data (movement patterns, speed, orientation) using Python script | Abdullah Ifteqar Mohmmed | Not Started |\n",
    "| | 2B | Create visualizations using Matplotlib/Plotly (e.g., graphs, heatmaps) | Kanika | Not Started |\n",
    "| | 2C | Set up display of visualizations on Raspberry Pi monitor | Person 6 | Not Started |\n",
    "| **3. Web Interface for Remote Monitoring (3 days)** | 3A | Develop Flask-based web interface | Person 7 | Not Started |\n",
    "| | 3B | Integrate visualizations and data into the web interface | Arish | Not Started |\n",
    "| | 3C | Ensure accessibility of interface across networked devices | Person 9 | Not Started |\n",
    "| **4. Demonstration and Report (2 days)** | 4A | Prepare and conduct system demonstration | Person 10 | Not Started |\n",
    "| | 4B | Write project report (design, implementation, challenges, results) | Person 11 | Not Started |\n",
    "| | 4C | Compile and format all deliverables (code, documentation, report) | Person 12 | Not Started |\n"
   ]
  },
  {
   "cell_type": "code",
   "execution_count": null,
   "metadata": {},
   "outputs": [],
   "source": []
  },
  {
   "cell_type": "markdown",
   "metadata": {},
   "source": [
    "#### 1B. Configure app and smartphone to stream data to Raspberry Pi (via Wi-Fi/Bluetooth)"
   ]
  },
  {
   "cell_type": "code",
   "execution_count": null,
   "metadata": {},
   "outputs": [],
   "source": [
    "# Save the Flask code as sensor_receiver.py\n",
    "# Run on bash\n",
    "\n",
    "# cd home/mayisha/iot_group_d            # Navigate to it\n",
    "# nano sensor_receiver.py      # Paste the Flask code and save (Ctrl+X → Y → Enter)"
   ]
  },
  {
   "cell_type": "code",
   "execution_count": null,
   "metadata": {},
   "outputs": [],
   "source": [
    "# Testing the server\n",
    "# python3 sensor_receiver.py\n",
    "\n",
    "# Checked connectivity\n",
    "# curl -X POST http://localhost:5000/sensor_data -H \"Content-Type: application/json\" -d '{\"test\":123}'"
   ]
  },
  {
   "cell_type": "markdown",
   "metadata": {},
   "source": [
    "Report:\n",
    "\n",
    "Created a folder called iot_gp_d in Mayisha home folder\n",
    "Saved the flask file to the folder \n",
    "Created a file called sensor_receiver.py\n",
    "Challenges:\n",
    "Connecting to the internet wirelessly did not work out. \n",
    "I had to connect using a HDMI adapter to my laptop and used vMix as a monitor.\n",
    "\n",
    "LLM used: DeepSeek, ChatGPT\n",
    "\n",
    "First prompt\n",
    "\n",
    "Create tasks for 12 people from the assignment file\n",
    "\n",
    "Last prompt: Phyphox does not allow me to export to http from iphone. Other options of the app\n",
    "\n",
    "Scripts are on GitHub\n",
    "https://github.com/ONIgbokwe/IoT-AISC2010-Group-D/tree/dev/Assignment-2/Obianuju\n",
    "\n"
   ]
  },
  {
   "cell_type": "code",
   "execution_count": null,
   "metadata": {},
   "outputs": [],
   "source": []
  },
  {
   "cell_type": "code",
   "execution_count": null,
   "metadata": {},
   "outputs": [],
   "source": []
  },
  {
   "cell_type": "code",
   "execution_count": null,
   "metadata": {},
   "outputs": [],
   "source": []
  },
  {
   "cell_type": "code",
   "execution_count": null,
   "metadata": {},
   "outputs": [],
   "source": []
  },
  {
   "cell_type": "code",
   "execution_count": null,
   "metadata": {},
   "outputs": [],
   "source": []
  },
  {
   "cell_type": "code",
   "execution_count": null,
   "metadata": {},
   "outputs": [],
   "source": []
  },
  {
   "cell_type": "code",
   "execution_count": null,
   "metadata": {},
   "outputs": [],
   "source": []
  },
  {
   "cell_type": "code",
   "execution_count": null,
   "metadata": {},
   "outputs": [],
   "source": []
  },
  {
   "cell_type": "code",
   "execution_count": null,
   "metadata": {},
   "outputs": [],
   "source": []
  }
 ],
 "metadata": {
  "kernelspec": {
   "display_name": "Python 3",
   "language": "python",
   "name": "python3"
  },
  "language_info": {
   "codemirror_mode": {
    "name": "ipython",
    "version": 3
   },
   "file_extension": ".py",
   "mimetype": "text/x-python",
   "name": "python",
   "nbconvert_exporter": "python",
   "pygments_lexer": "ipython3",
   "version": "3.12.3"
  }
 },
 "nbformat": 4,
 "nbformat_minor": 2
}
